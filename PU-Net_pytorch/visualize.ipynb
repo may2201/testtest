{
    "cells": [
        {
            "cell_type": "code",
            "execution_count": 1,
            "source": [
                "from utils.ply_utils import read_ply\n",
                "import torch\n",
                "import os\n",
                "\n",
                "os.environ[\"CUDA_VISIBLE_DEVICES\"] = str(\"7\")\n",
                "\n",
                "import torch.nn as nn\n",
                "import torch.nn.functional as f\n",
                "\n",
                "import numpy as np\n",
                "\n"
            ],
            "outputs": [],
            "metadata": {}
        },
        {
            "cell_type": "code",
            "execution_count": 2,
            "source": [
                "prefix = \"outputs/old/punet_ev_frame01/99/\"\n",
                "name = \"6\"\n",
                "\n",
                "pred = read_ply(prefix + name + \".ply\")\n",
                "ipt = read_ply(prefix + name + \"_input.ply\")"
            ],
            "outputs": [],
            "metadata": {}
        },
        {
            "cell_type": "code",
            "execution_count": 3,
            "source": [
                "%matplotlib widget\n",
                "\n",
                "import matplotlib.pyplot as plt\n",
                "from mpl_toolkits.mplot3d import proj3d"
            ],
            "outputs": [
                {
                    "output_type": "stream",
                    "name": "stderr",
                    "text": [
                        "\n",
                        "Bad key \"text.kerning_factor\" on line 4 in\n",
                        "/userhome/mayi/miniconda3/envs/punet/lib/python3.6/site-packages/matplotlib/mpl-data/stylelib/_classic_test_patch.mplstyle.\n",
                        "You probably need to get an updated matplotlibrc file from\n",
                        "http://github.com/matplotlib/matplotlib/blob/master/matplotlibrc.template\n",
                        "or from the matplotlib source distribution\n"
                    ]
                }
            ],
            "metadata": {}
        },
        {
            "cell_type": "code",
            "execution_count": 4,
            "source": [
                "fig = plt.figure()\n",
                "ax = fig.add_subplot(111, projection='3d')\n",
                "\n",
                "ax.scatter(pred['x'], pred['y'], pred['z'])\n",
                "plt.show()"
            ],
            "outputs": [
                {
                    "output_type": "stream",
                    "name": "stderr",
                    "text": [
                        "/userhome/mayi/miniconda3/envs/punet/lib/python3.6/site-packages/matplotlib/__init__.py:942: MatplotlibDeprecationWarning: nbagg.transparent is deprecated and ignored. Use figure.facecolor instead.\n",
                        "  mplDeprecation)\n"
                    ]
                },
                {
                    "output_type": "display_data",
                    "data": {
                        "text/plain": [
                            "Canvas(toolbar=Toolbar(toolitems=[('Home', 'Reset original view', 'home', 'home'), ('Back', 'Back to  previous…"
                        ],
                        "application/vnd.jupyter.widget-view+json": {
                            "version_major": 2,
                            "version_minor": 0,
                            "model_id": "d808d206855d479daaa9ba8e3c05eb8c"
                        }
                    },
                    "metadata": {}
                }
            ],
            "metadata": {}
        }
    ],
    "metadata": {
        "orig_nbformat": 4,
        "language_info": {
            "name": "python",
            "version": "3.6.13",
            "mimetype": "text/x-python",
            "codemirror_mode": {
                "name": "ipython",
                "version": 3
            },
            "pygments_lexer": "ipython3",
            "nbconvert_exporter": "python",
            "file_extension": ".py"
        },
        "kernelspec": {
            "name": "python3",
            "display_name": "Python 3.6.13 64-bit ('punet': conda)"
        },
        "interpreter": {
            "hash": "60f69aed33af10f52224a32d772e4fde0e670dbe1e44331f9b0470ee491c9624"
        }
    },
    "nbformat": 4,
    "nbformat_minor": 2
}